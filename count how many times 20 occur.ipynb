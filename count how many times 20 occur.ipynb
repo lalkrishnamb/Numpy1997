{
 "cells": [
  {
   "cell_type": "code",
   "execution_count": 3,
   "id": "9f5d5fd3",
   "metadata": {},
   "outputs": [],
   "source": [
    "import numpy as np"
   ]
  },
  {
   "cell_type": "code",
   "execution_count": 4,
   "id": "688c0f17",
   "metadata": {},
   "outputs": [],
   "source": [
    "arr=np.array([10,20,20,20,20,0,20,30,30,30,0,20,20,0])"
   ]
  },
  {
   "cell_type": "code",
   "execution_count": 5,
   "id": "3cbb81b4",
   "metadata": {},
   "outputs": [
    {
     "name": "stdout",
     "output_type": "stream",
     "text": [
      "[10 20 20 20 20  0 20 30 30 30  0 20 20  0]\n"
     ]
    }
   ],
   "source": [
    "print(arr)"
   ]
  },
  {
   "cell_type": "code",
   "execution_count": 6,
   "id": "2cc6553c",
   "metadata": {},
   "outputs": [
    {
     "data": {
      "text/plain": [
       "7"
      ]
     },
     "execution_count": 6,
     "metadata": {},
     "output_type": "execute_result"
    }
   ],
   "source": [
    "np.count_nonzero(arr == 20)"
   ]
  },
  {
   "cell_type": "code",
   "execution_count": null,
   "id": "ffedde2a",
   "metadata": {},
   "outputs": [],
   "source": []
  }
 ],
 "metadata": {
  "kernelspec": {
   "display_name": "Python 3 (ipykernel)",
   "language": "python",
   "name": "python3"
  },
  "language_info": {
   "codemirror_mode": {
    "name": "ipython",
    "version": 3
   },
   "file_extension": ".py",
   "mimetype": "text/x-python",
   "name": "python",
   "nbconvert_exporter": "python",
   "pygments_lexer": "ipython3",
   "version": "3.11.4"
  }
 },
 "nbformat": 4,
 "nbformat_minor": 5
}
